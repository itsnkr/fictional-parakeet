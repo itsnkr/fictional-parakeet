{
 "cells": [
  {
   "cell_type": "code",
   "execution_count": 2,
   "metadata": {},
   "outputs": [],
   "source": [
    "import pandas as pd\n",
    "import numpy as np\n",
    "import matplotlib.pyplot as plt\n",
    "import seaborn as sns"
   ]
  },
  {
   "cell_type": "code",
   "execution_count": 4,
   "metadata": {},
   "outputs": [],
   "source": [
    "traindata= pd.read_csv('D:/2243_9243_bundle_archive/fashion-mnist_train.csv',sep=\",\")"
   ]
  },
  {
   "cell_type": "code",
   "execution_count": 5,
   "metadata": {},
   "outputs": [],
   "source": [
    "testdata= pd.read_csv('D:/2243_9243_bundle_archive/fashion-mnist_test.csv',sep=\",\")"
   ]
  },
  {
   "cell_type": "code",
   "execution_count": 7,
   "metadata": {
    "scrolled": true
   },
   "outputs": [
    {
     "data": {
      "text/html": [
       "<div>\n",
       "<style scoped>\n",
       "    .dataframe tbody tr th:only-of-type {\n",
       "        vertical-align: middle;\n",
       "    }\n",
       "\n",
       "    .dataframe tbody tr th {\n",
       "        vertical-align: top;\n",
       "    }\n",
       "\n",
       "    .dataframe thead th {\n",
       "        text-align: right;\n",
       "    }\n",
       "</style>\n",
       "<table border=\"1\" class=\"dataframe\">\n",
       "  <thead>\n",
       "    <tr style=\"text-align: right;\">\n",
       "      <th></th>\n",
       "      <th>label</th>\n",
       "      <th>pixel1</th>\n",
       "      <th>pixel2</th>\n",
       "      <th>pixel3</th>\n",
       "      <th>pixel4</th>\n",
       "      <th>pixel5</th>\n",
       "      <th>pixel6</th>\n",
       "      <th>pixel7</th>\n",
       "      <th>pixel8</th>\n",
       "      <th>pixel9</th>\n",
       "      <th>...</th>\n",
       "      <th>pixel775</th>\n",
       "      <th>pixel776</th>\n",
       "      <th>pixel777</th>\n",
       "      <th>pixel778</th>\n",
       "      <th>pixel779</th>\n",
       "      <th>pixel780</th>\n",
       "      <th>pixel781</th>\n",
       "      <th>pixel782</th>\n",
       "      <th>pixel783</th>\n",
       "      <th>pixel784</th>\n",
       "    </tr>\n",
       "  </thead>\n",
       "  <tbody>\n",
       "    <tr>\n",
       "      <th>0</th>\n",
       "      <td>2</td>\n",
       "      <td>0</td>\n",
       "      <td>0</td>\n",
       "      <td>0</td>\n",
       "      <td>0</td>\n",
       "      <td>0</td>\n",
       "      <td>0</td>\n",
       "      <td>0</td>\n",
       "      <td>0</td>\n",
       "      <td>0</td>\n",
       "      <td>...</td>\n",
       "      <td>0</td>\n",
       "      <td>0</td>\n",
       "      <td>0</td>\n",
       "      <td>0</td>\n",
       "      <td>0</td>\n",
       "      <td>0</td>\n",
       "      <td>0</td>\n",
       "      <td>0</td>\n",
       "      <td>0</td>\n",
       "      <td>0</td>\n",
       "    </tr>\n",
       "    <tr>\n",
       "      <th>1</th>\n",
       "      <td>9</td>\n",
       "      <td>0</td>\n",
       "      <td>0</td>\n",
       "      <td>0</td>\n",
       "      <td>0</td>\n",
       "      <td>0</td>\n",
       "      <td>0</td>\n",
       "      <td>0</td>\n",
       "      <td>0</td>\n",
       "      <td>0</td>\n",
       "      <td>...</td>\n",
       "      <td>0</td>\n",
       "      <td>0</td>\n",
       "      <td>0</td>\n",
       "      <td>0</td>\n",
       "      <td>0</td>\n",
       "      <td>0</td>\n",
       "      <td>0</td>\n",
       "      <td>0</td>\n",
       "      <td>0</td>\n",
       "      <td>0</td>\n",
       "    </tr>\n",
       "    <tr>\n",
       "      <th>2</th>\n",
       "      <td>6</td>\n",
       "      <td>0</td>\n",
       "      <td>0</td>\n",
       "      <td>0</td>\n",
       "      <td>0</td>\n",
       "      <td>0</td>\n",
       "      <td>0</td>\n",
       "      <td>0</td>\n",
       "      <td>5</td>\n",
       "      <td>0</td>\n",
       "      <td>...</td>\n",
       "      <td>0</td>\n",
       "      <td>0</td>\n",
       "      <td>0</td>\n",
       "      <td>30</td>\n",
       "      <td>43</td>\n",
       "      <td>0</td>\n",
       "      <td>0</td>\n",
       "      <td>0</td>\n",
       "      <td>0</td>\n",
       "      <td>0</td>\n",
       "    </tr>\n",
       "    <tr>\n",
       "      <th>3</th>\n",
       "      <td>0</td>\n",
       "      <td>0</td>\n",
       "      <td>0</td>\n",
       "      <td>0</td>\n",
       "      <td>1</td>\n",
       "      <td>2</td>\n",
       "      <td>0</td>\n",
       "      <td>0</td>\n",
       "      <td>0</td>\n",
       "      <td>0</td>\n",
       "      <td>...</td>\n",
       "      <td>3</td>\n",
       "      <td>0</td>\n",
       "      <td>0</td>\n",
       "      <td>0</td>\n",
       "      <td>0</td>\n",
       "      <td>1</td>\n",
       "      <td>0</td>\n",
       "      <td>0</td>\n",
       "      <td>0</td>\n",
       "      <td>0</td>\n",
       "    </tr>\n",
       "    <tr>\n",
       "      <th>4</th>\n",
       "      <td>3</td>\n",
       "      <td>0</td>\n",
       "      <td>0</td>\n",
       "      <td>0</td>\n",
       "      <td>0</td>\n",
       "      <td>0</td>\n",
       "      <td>0</td>\n",
       "      <td>0</td>\n",
       "      <td>0</td>\n",
       "      <td>0</td>\n",
       "      <td>...</td>\n",
       "      <td>0</td>\n",
       "      <td>0</td>\n",
       "      <td>0</td>\n",
       "      <td>0</td>\n",
       "      <td>0</td>\n",
       "      <td>0</td>\n",
       "      <td>0</td>\n",
       "      <td>0</td>\n",
       "      <td>0</td>\n",
       "      <td>0</td>\n",
       "    </tr>\n",
       "  </tbody>\n",
       "</table>\n",
       "<p>5 rows × 785 columns</p>\n",
       "</div>"
      ],
      "text/plain": [
       "   label  pixel1  pixel2  pixel3  pixel4  pixel5  pixel6  pixel7  pixel8  \\\n",
       "0      2       0       0       0       0       0       0       0       0   \n",
       "1      9       0       0       0       0       0       0       0       0   \n",
       "2      6       0       0       0       0       0       0       0       5   \n",
       "3      0       0       0       0       1       2       0       0       0   \n",
       "4      3       0       0       0       0       0       0       0       0   \n",
       "\n",
       "   pixel9  ...  pixel775  pixel776  pixel777  pixel778  pixel779  pixel780  \\\n",
       "0       0  ...         0         0         0         0         0         0   \n",
       "1       0  ...         0         0         0         0         0         0   \n",
       "2       0  ...         0         0         0        30        43         0   \n",
       "3       0  ...         3         0         0         0         0         1   \n",
       "4       0  ...         0         0         0         0         0         0   \n",
       "\n",
       "   pixel781  pixel782  pixel783  pixel784  \n",
       "0         0         0         0         0  \n",
       "1         0         0         0         0  \n",
       "2         0         0         0         0  \n",
       "3         0         0         0         0  \n",
       "4         0         0         0         0  \n",
       "\n",
       "[5 rows x 785 columns]"
      ]
     },
     "execution_count": 7,
     "metadata": {},
     "output_type": "execute_result"
    }
   ],
   "source": [
    "traindata.head()"
   ]
  },
  {
   "cell_type": "code",
   "execution_count": 10,
   "metadata": {},
   "outputs": [],
   "source": [
    "training = np.array(traindata,dtype='float32')\n",
    "testing = np.array(testdata,dtype='float32')"
   ]
  },
  {
   "cell_type": "code",
   "execution_count": 35,
   "metadata": {},
   "outputs": [
    {
     "data": {
      "text/plain": [
       "4.0"
      ]
     },
     "execution_count": 35,
     "metadata": {},
     "output_type": "execute_result"
    },
    {
     "data": {
      "image/png": "[encoded data removed]",
      "text/plain": [
       "<Figure size 432x288 with 1 Axes>"
      ]
     },
     "metadata": {
      "needs_background": "light"
     },
     "output_type": "display_data"
    }
   ],
   "source": [
    "import random as r\n",
    "i = r.randint(1,60000)\n",
    "plt.imshow(training[i,1:].reshape(28,28))\n",
    "label = training[i,0]\n",
    "label"
   ]
  },
  {
   "cell_type": "code",
   "execution_count": 11,
   "metadata": {},
   "outputs": [
    {
     "data": {
      "text/plain": [
       "array([[2., 0., 0., ..., 0., 0., 0.],\n",
       "       [9., 0., 0., ..., 0., 0., 0.],\n",
       "       [6., 0., 0., ..., 0., 0., 0.],\n",
       "       ...,\n",
       "       [8., 0., 0., ..., 0., 0., 0.],\n",
       "       [8., 0., 0., ..., 0., 0., 0.],\n",
       "       [7., 0., 0., ..., 0., 0., 0.]], dtype=float32)"
      ]
     },
     "execution_count": 11,
     "metadata": {},
     "output_type": "execute_result"
    }
   ],
   "source": [
    "training"
   ]
  },
  {
   "cell_type": "code",
   "execution_count": 8,
   "metadata": {},
   "outputs": [],
   "source": [
    "xtrain = training[:,1:]/255\n",
    "ytrain = training[:,0]"
   ]
  },
  {
   "cell_type": "code",
   "execution_count": 12,
   "metadata": {},
   "outputs": [],
   "source": [
    "xtest = testing[:,1:]/255\n",
    "ytest = testing[:,0]"
   ]
  },
  {
   "cell_type": "code",
   "execution_count": 13,
   "metadata": {},
   "outputs": [],
   "source": [
    "from sklearn.model_selection import train_test_split"
   ]
  },
  {
   "cell_type": "code",
   "execution_count": 14,
   "metadata": {},
   "outputs": [],
   "source": [
    "xtrain,xvalidate,ytrain,yvalidate=train_test_split(xtrain,ytrain,test_size=0.2,random_state=12345)"
   ]
  },
  {
   "cell_type": "code",
   "execution_count": 15,
   "metadata": {},
   "outputs": [],
   "source": [
    "xtrain = xtrain.reshape(xtrain.shape[0],*(28,28,1))\n",
    "xtest = xtest.reshape(xtest.shape[0],*(28,28,1))\n",
    "xvalidate = xvalidate.reshape(xvalidate.shape[0],*(28,28,1))"
   ]
  },
  {
   "cell_type": "code",
   "execution_count": 18,
   "metadata": {},
   "outputs": [
    {
     "data": {
      "text/plain": [
       "(12000, 28, 28, 1)"
      ]
     },
     "execution_count": 18,
     "metadata": {},
     "output_type": "execute_result"
    }
   ],
   "source": [
    "xvalidate.shape"
   ]
  },
  {
   "cell_type": "code",
   "execution_count": 22,
   "metadata": {},
   "outputs": [],
   "source": [
    "import keras\n",
    "from keras.models import Sequential\n",
    "from keras.layers import Conv2D, MaxPooling2D, Dense,Flatten, Dropout\n",
    "from keras.optimizers import Adam\n",
    "from keras.callbacks import TensorBoard"
   ]
  },
  {
   "cell_type": "code",
   "execution_count": 23,
   "metadata": {},
   "outputs": [],
   "source": [
    "cnnmodel= Sequential()"
   ]
  },
  {
   "cell_type": "code",
   "execution_count": 25,
   "metadata": {},
   "outputs": [],
   "source": [
    "cnnmodel.add(Conv2D(32,3,3,input_shape=(28,28,1),activation = 'relu'))"
   ]
  },
  {
   "cell_type": "code",
   "execution_count": 26,
   "metadata": {},
   "outputs": [],
   "source": [
    "cnnmodel.add(MaxPooling2D(pool_size=(2,2)))"
   ]
  },
  {
   "cell_type": "code",
   "execution_count": 27,
   "metadata": {},
   "outputs": [],
   "source": [
    "cnnmodel.add(Flatten())"
   ]
  },
  {
   "cell_type": "code",
   "execution_count": 34,
   "metadata": {},
   "outputs": [],
   "source": [
    "cnnmodel.add(Dense(32, activation = 'relu'))"
   ]
  },
  {
   "cell_type": "code",
   "execution_count": 36,
   "metadata": {},
   "outputs": [],
   "source": [
    "cnnmodel.add(Dense(10 , activation = 'sigmoid'))"
   ]
  },
  {
   "cell_type": "code",
   "execution_count": 39,
   "metadata": {},
   "outputs": [],
   "source": [
    "cnnmodel.compile(loss='sparse_categorical_crossentropy',optimizer = Adam(lr=0.001), metrics=['accuracy'])"
   ]
  },
  {
   "cell_type": "code",
   "execution_count": 41,
   "metadata": {},
   "outputs": [],
   "source": [
    "epochs=50"
   ]
  },
  {
   "cell_type": "code",
   "execution_count": 44,
   "metadata": {},
   "outputs": [
    {
     "name": "stdout",
     "output_type": "stream",
     "text": [
      "Epoch 1/50\n",
      "94/94 [==============================] - 27s 287ms/step - loss: 2.2620 - accuracy: 0.1652 - val_loss: 2.1469 - val_accuracy: 0.2963\n",
      "Epoch 2/50\n",
      "94/94 [==============================] - 3s 31ms/step - loss: 2.0280 - accuracy: 0.3790 - val_loss: 1.9140 - val_accuracy: 0.4694\n",
      "Epoch 3/50\n",
      "94/94 [==============================] - 3s 33ms/step - loss: 1.8235 - accuracy: 0.5065 - val_loss: 1.7295 - val_accuracy: 0.5499\n",
      "Epoch 4/50\n",
      "94/94 [==============================] - 3s 31ms/step - loss: 1.6451 - accuracy: 0.5654 - val_loss: 1.5555 - val_accuracy: 0.6062\n",
      "Epoch 5/50\n",
      "94/94 [==============================] - 3s 31ms/step - loss: 1.4857 - accuracy: 0.6050 - val_loss: 1.4121 - val_accuracy: 0.6382\n",
      "Epoch 6/50\n",
      "94/94 [==============================] - 3s 32ms/step - loss: 1.3501 - accuracy: 0.6787 - val_loss: 1.2850 - val_accuracy: 0.7218\n",
      "Epoch 7/50\n",
      "94/94 [==============================] - 3s 31ms/step - loss: 1.2384 - accuracy: 0.7247 - val_loss: 1.1862 - val_accuracy: 0.7305\n",
      "Epoch 8/50\n",
      "94/94 [==============================] - 3s 30ms/step - loss: 1.1409 - accuracy: 0.7411 - val_loss: 1.0946 - val_accuracy: 0.7438\n",
      "Epoch 9/50\n",
      "94/94 [==============================] - 3s 33ms/step - loss: 1.0551 - accuracy: 0.7511 - val_loss: 1.0178 - val_accuracy: 0.7508\n",
      "Epoch 10/50\n",
      "94/94 [==============================] - 3s 31ms/step - loss: 0.9849 - accuracy: 0.7590 - val_loss: 0.9579 - val_accuracy: 0.7591\n",
      "Epoch 11/50\n",
      "94/94 [==============================] - 3s 31ms/step - loss: 0.9255 - accuracy: 0.7656 - val_loss: 0.8993 - val_accuracy: 0.7704\n",
      "Epoch 12/50\n",
      "94/94 [==============================] - 3s 32ms/step - loss: 0.8724 - accuracy: 0.7751 - val_loss: 0.8529 - val_accuracy: 0.7763\n",
      "Epoch 13/50\n",
      "94/94 [==============================] - 3s 30ms/step - loss: 0.8288 - accuracy: 0.7799 - val_loss: 0.8168 - val_accuracy: 0.7791\n",
      "Epoch 14/50\n",
      "94/94 [==============================] - 3s 31ms/step - loss: 0.7910 - accuracy: 0.7850 - val_loss: 0.7798 - val_accuracy: 0.7813\n",
      "Epoch 15/50\n",
      "94/94 [==============================] - 3s 32ms/step - loss: 0.7564 - accuracy: 0.7891 - val_loss: 0.7501 - val_accuracy: 0.7818\n",
      "Epoch 16/50\n",
      "94/94 [==============================] - 3s 31ms/step - loss: 0.7285 - accuracy: 0.7928 - val_loss: 0.7211 - val_accuracy: 0.7907\n",
      "Epoch 17/50\n",
      "94/94 [==============================] - 3s 31ms/step - loss: 0.7036 - accuracy: 0.7960 - val_loss: 0.6973 - val_accuracy: 0.7949\n",
      "Epoch 18/50\n",
      "94/94 [==============================] - 3s 31ms/step - loss: 0.6798 - accuracy: 0.7997 - val_loss: 0.6802 - val_accuracy: 0.7944\n",
      "Epoch 19/50\n",
      "94/94 [==============================] - 3s 32ms/step - loss: 0.6576 - accuracy: 0.8017 - val_loss: 0.6598 - val_accuracy: 0.7981\n",
      "Epoch 20/50\n",
      "94/94 [==============================] - 3s 31ms/step - loss: 0.6375 - accuracy: 0.8067 - val_loss: 0.6408 - val_accuracy: 0.8022\n",
      "Epoch 21/50\n",
      "94/94 [==============================] - 3s 31ms/step - loss: 0.6223 - accuracy: 0.8087 - val_loss: 0.6321 - val_accuracy: 0.8021\n",
      "Epoch 22/50\n",
      "94/94 [==============================] - 3s 32ms/step - loss: 0.6076 - accuracy: 0.8116 - val_loss: 0.6117 - val_accuracy: 0.8065\n",
      "Epoch 23/50\n",
      "94/94 [==============================] - 3s 31ms/step - loss: 0.5920 - accuracy: 0.8148 - val_loss: 0.5994 - val_accuracy: 0.8092\n",
      "Epoch 24/50\n",
      "94/94 [==============================] - 3s 30ms/step - loss: 0.5839 - accuracy: 0.8144 - val_loss: 0.5936 - val_accuracy: 0.8073\n",
      "Epoch 25/50\n",
      "94/94 [==============================] - 3s 32ms/step - loss: 0.5692 - accuracy: 0.8177 - val_loss: 0.5771 - val_accuracy: 0.8138\n",
      "Epoch 26/50\n",
      "94/94 [==============================] - 3s 31ms/step - loss: 0.5588 - accuracy: 0.8203 - val_loss: 0.5703 - val_accuracy: 0.8148\n",
      "Epoch 27/50\n",
      "94/94 [==============================] - 3s 31ms/step - loss: 0.5498 - accuracy: 0.8211 - val_loss: 0.5625 - val_accuracy: 0.8152\n",
      "Epoch 28/50\n",
      "94/94 [==============================] - 3s 32ms/step - loss: 0.5431 - accuracy: 0.8213 - val_loss: 0.5561 - val_accuracy: 0.8163\n",
      "Epoch 29/50\n",
      "94/94 [==============================] - 3s 30ms/step - loss: 0.5336 - accuracy: 0.8244 - val_loss: 0.5499 - val_accuracy: 0.8173\n",
      "Epoch 30/50\n",
      "94/94 [==============================] - 3s 31ms/step - loss: 0.5261 - accuracy: 0.8249 - val_loss: 0.5438 - val_accuracy: 0.8189\n",
      "Epoch 31/50\n",
      "94/94 [==============================] - 3s 33ms/step - loss: 0.5187 - accuracy: 0.8284 - val_loss: 0.5351 - val_accuracy: 0.8220s - loss: 0.5189 - accuracy: 0.\n",
      "Epoch 32/50\n",
      "94/94 [==============================] - 3s 31ms/step - loss: 0.5131 - accuracy: 0.8289 - val_loss: 0.5333 - val_accuracy: 0.8223\n",
      "Epoch 33/50\n",
      "94/94 [==============================] - 3s 30ms/step - loss: 0.5056 - accuracy: 0.8303 - val_loss: 0.5308 - val_accuracy: 0.8238\n",
      "Epoch 34/50\n",
      "94/94 [==============================] - 3s 33ms/step - loss: 0.5012 - accuracy: 0.8309 - val_loss: 0.5211 - val_accuracy: 0.8254\n",
      "Epoch 35/50\n",
      "94/94 [==============================] - 3s 31ms/step - loss: 0.4946 - accuracy: 0.8322 - val_loss: 0.5247 - val_accuracy: 0.8202\n",
      "Epoch 36/50\n",
      "94/94 [==============================] - 3s 33ms/step - loss: 0.4920 - accuracy: 0.8335 - val_loss: 0.5164 - val_accuracy: 0.8247\n",
      "Epoch 37/50\n",
      "94/94 [==============================] - 3s 34ms/step - loss: 0.4854 - accuracy: 0.8353 - val_loss: 0.5105 - val_accuracy: 0.8260\n",
      "Epoch 38/50\n",
      "94/94 [==============================] - 3s 31ms/step - loss: 0.4810 - accuracy: 0.8354 - val_loss: 0.5113 - val_accuracy: 0.8265\n",
      "Epoch 39/50\n",
      "94/94 [==============================] - 3s 31ms/step - loss: 0.4751 - accuracy: 0.8372 - val_loss: 0.5032 - val_accuracy: 0.8259\n",
      "Epoch 40/50\n",
      "94/94 [==============================] - 3s 33ms/step - loss: 0.4704 - accuracy: 0.8394 - val_loss: 0.5000 - val_accuracy: 0.8279\n",
      "Epoch 41/50\n",
      "94/94 [==============================] - 3s 31ms/step - loss: 0.4687 - accuracy: 0.8395 - val_loss: 0.4977 - val_accuracy: 0.8275\n",
      "Epoch 42/50\n",
      "94/94 [==============================] - 3s 31ms/step - loss: 0.4623 - accuracy: 0.8411 - val_loss: 0.4981 - val_accuracy: 0.8293\n",
      "Epoch 43/50\n",
      "94/94 [==============================] - 3s 32ms/step - loss: 0.4594 - accuracy: 0.8415 - val_loss: 0.4926 - val_accuracy: 0.8292\n",
      "Epoch 44/50\n",
      "94/94 [==============================] - 3s 31ms/step - loss: 0.4567 - accuracy: 0.8431 - val_loss: 0.4885 - val_accuracy: 0.8309\n",
      "Epoch 45/50\n",
      "94/94 [==============================] - 3s 31ms/step - loss: 0.4527 - accuracy: 0.8423 - val_loss: 0.4822 - val_accuracy: 0.8333\n",
      "Epoch 46/50\n",
      "94/94 [==============================] - 3s 33ms/step - loss: 0.4497 - accuracy: 0.8442 - val_loss: 0.4803 - val_accuracy: 0.8332\n",
      "Epoch 47/50\n",
      "94/94 [==============================] - 3s 31ms/step - loss: 0.4456 - accuracy: 0.8456 - val_loss: 0.4825 - val_accuracy: 0.8312\n",
      "Epoch 48/50\n",
      "94/94 [==============================] - 3s 31ms/step - loss: 0.4432 - accuracy: 0.8461 - val_loss: 0.4792 - val_accuracy: 0.8335\n",
      "Epoch 49/50\n",
      "94/94 [==============================] - 3s 32ms/step - loss: 0.4404 - accuracy: 0.8465 - val_loss: 0.4753 - val_accuracy: 0.8361\n",
      "Epoch 50/50\n",
      "94/94 [==============================] - 3s 31ms/step - loss: 0.4369 - accuracy: 0.8476 - val_loss: 0.4717 - val_accuracy: 0.8368\n"
     ]
    },
    {
     "data": {
      "text/plain": [
       "<tensorflow.python.keras.callbacks.History at 0x23b01945948>"
      ]
     },
     "execution_count": 44,
     "metadata": {},
     "output_type": "execute_result"
    }
   ],
   "source": [
    "cnnmodel.fit(xtrain,ytrain,batch_size=512,epochs=50,verbose=1,validation_data=(xvalidate,yvalidate))"
   ]
  },
  {
   "cell_type": "code",
   "execution_count": 46,
   "metadata": {},
   "outputs": [
    {
     "name": "stdout",
     "output_type": "stream",
     "text": [
      "313/313 [==============================] - 1s 3ms/step - loss: 0.4680 - accuracy: 0.8373\n",
      "Test Accuracy : 0.837\n"
     ]
    }
   ],
   "source": [
    "evaluation = cnnmodel.evaluate(xtest,ytest)\n",
    "print('Test Accuracy : {:.3f}'.format(evaluation[1]))"
   ]
  },
  {
   "cell_type": "code",
   "execution_count": 49,
   "metadata": {},
   "outputs": [],
   "source": [
    "predictclass = cnnmodel.predict_classes(xtest)"
   ]
  },
  {
   "cell_type": "code",
   "execution_count": 51,
   "metadata": {},
   "outputs": [
    {
     "data": {
      "text/plain": [
       "array([0, 1, 2, ..., 8, 8, 4], dtype=int64)"
      ]
     },
     "execution_count": 51,
     "metadata": {},
     "output_type": "execute_result"
    }
   ],
   "source": [
    "predictclass"
   ]
  },
  {
   "cell_type": "code",
   "execution_count": 53,
   "metadata": {},
   "outputs": [
    {
     "data": {
      "text/plain": [
       "<matplotlib.axes._subplots.AxesSubplot at 0x23b02645488>"
      ]
     },
     "execution_count": 53,
     "metadata": {},
     "output_type": "execute_result"
    },
    {
     "data": {
      "image/png": "[encoded data removed]",
      "text/plain": [
       "<Figure size 1080x720 with 2 Axes>"
      ]
     },
     "metadata": {
      "needs_background": "light"
     },
     "output_type": "display_data"
    }
   ],
   "source": [
    "from sklearn.metrics import confusion_matrix\n",
    "cm = confusion_matrix(ytest,predictclass)\n",
    "plt.figure(figsize=(15,10))\n",
    "sns.heatmap(cm,annot=True)"
   ]
  },
  {
   "cell_type": "code",
   "execution_count": 55,
   "metadata": {},
   "outputs": [
    {
     "name": "stdout",
     "output_type": "stream",
     "text": [
      "              precision    recall  f1-score   support\n",
      "\n",
      "     class 0       0.75      0.84      0.80      1000\n",
      "     class 1       0.98      0.95      0.97      1000\n",
      "     class 2       0.75      0.76      0.75      1000\n",
      "     class 3       0.84      0.87      0.85      1000\n",
      "     class 4       0.75      0.77      0.76      1000\n",
      "     class 5       0.96      0.90      0.93      1000\n",
      "     class 6       0.63      0.50      0.56      1000\n",
      "     class 7       0.88      0.89      0.88      1000\n",
      "     class 8       0.93      0.95      0.94      1000\n",
      "     class 9       0.89      0.93      0.91      1000\n",
      "\n",
      "    accuracy                           0.84     10000\n",
      "   macro avg       0.84      0.84      0.84     10000\n",
      "weighted avg       0.84      0.84      0.84     10000\n",
      "\n"
     ]
    }
   ],
   "source": [
    "from sklearn.metrics import classification_report\n",
    "classes=10\n",
    "targetnames = ['class {}'.format(i) for i in range(classes)]\n",
    "\n",
    "print(classification_report(ytest,predictclass,target_names=targetnames))"
   ]
  }
 ],
 "metadata": {
  "kernelspec": {
   "display_name": "Python 3",
   "language": "python",
   "name": "python3"
  },
  "language_info": {
   "codemirror_mode": {
    "name": "ipython",
    "version": 3
   },
   "file_extension": ".py",
   "mimetype": "text/x-python",
   "name": "python",
   "nbconvert_exporter": "python",
   "pygments_lexer": "ipython3",
   "version": "3.7.6"
  }
 },
 "nbformat": 4,
 "nbformat_minor": 4
}
